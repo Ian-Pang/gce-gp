{
 "cells": [
  {
   "cell_type": "code",
   "execution_count": 5,
   "metadata": {},
   "outputs": [
    {
     "data": {
      "text/plain": [
       "True"
      ]
     },
     "execution_count": 5,
     "metadata": {},
     "output_type": "execute_result"
    }
   ],
   "source": [
    "import os\n",
    "os.path.isfile('1b-1-gp2temp_inner_5_best_mods.ipynb')"
   ]
  },
  {
   "cell_type": "code",
   "execution_count": 4,
   "metadata": {},
   "outputs": [
    {
     "name": "stdout",
     "output_type": "stream",
     "text": [
      "1-2-gp_fit_5_best_mods.ipynb\n",
      "1-3-gp_fit_5_best_mods.ipynb\n",
      "1-4-gp_fit_5_best_mods.ipynb\n",
      "1-5-gp_fit_5_best_mods.ipynb\n"
     ]
    }
   ],
   "source": [
    "# copy file in directory multiple times with custom names\n",
    "file_name = '1-1-gp_fit_5_best_mods.ipynb'\n",
    "ids = [2, 3, 4, 5]\n",
    "split_file_name = file_name.split('-')\n",
    "for id in ids:\n",
    "    split_file_name[1] = str(id)\n",
    "    new_file_name = '-'.join(split_file_name)\n",
    "    print(new_file_name)\n",
    "    os.system(f\"cp {file_name} {new_file_name}\")"
   ]
  },
  {
   "cell_type": "code",
   "execution_count": 7,
   "metadata": {},
   "outputs": [
    {
     "name": "stdout",
     "output_type": "stream",
     "text": [
      "1b-2-gp2temp_inner_5_best_mods.ipynb\n",
      "1b-3-gp2temp_inner_5_best_mods.ipynb\n",
      "1b-4-gp2temp_inner_5_best_mods.ipynb\n",
      "1b-5-gp2temp_inner_5_best_mods.ipynb\n"
     ]
    }
   ],
   "source": [
    "# copy file in directory multiple times with custom names\n",
    "file_name = '1b-1-gp2temp_inner_5_best_mods.ipynb'\n",
    "ids = [2, 3, 4, 5]\n",
    "split_file_name = file_name.split('-')\n",
    "for id in ids:\n",
    "    split_file_name[1] = str(id)\n",
    "    new_file_name = '-'.join(split_file_name)\n",
    "    print(new_file_name)\n",
    "    os.system(f\"cp {file_name} {new_file_name}\")"
   ]
  },
  {
   "cell_type": "code",
   "execution_count": null,
   "metadata": {},
   "outputs": [],
   "source": [
    "# copy file in directory multiple times with custom names\n",
    "file_name = '1b-1-gp2temp_inner_5_best_mods.ipynb'\n",
    "ids = [1, 2, 3, 4, 5]\n",
    "split_file_name = file_name.split('.')\n",
    "# for id in ids:\n",
    "#     new_file_name = f\"{split_file_name[0]}_{id}.{split_file_name[1]}\"\n",
    "#     os.system(f\"cp {file_name} {new_file_name}\")"
   ]
  }
 ],
 "metadata": {
  "kernelspec": {
   "display_name": "jax",
   "language": "python",
   "name": "python3"
  },
  "language_info": {
   "codemirror_mode": {
    "name": "ipython",
    "version": 3
   },
   "file_extension": ".py",
   "mimetype": "text/x-python",
   "name": "python",
   "nbconvert_exporter": "python",
   "pygments_lexer": "ipython3",
   "version": "3.11.4"
  }
 },
 "nbformat": 4,
 "nbformat_minor": 2
}
