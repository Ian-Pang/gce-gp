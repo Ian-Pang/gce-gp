{
 "cells": [
  {
   "cell_type": "code",
   "execution_count": 14,
   "metadata": {},
   "outputs": [],
   "source": [
    "%reload_ext autoreload\n",
    "%autoreload 2\n",
    "\n",
    "import sys\n",
    "sys.path.append(\"..\")\n",
    "\n",
    "import numpy as np\n",
    "import healpy as hp\n",
    "from astropy.io import fits\n",
    "from pprint import pprint\n",
    "from tqdm import tqdm\n",
    "import pickle\n",
    "import corner\n",
    "import os\n",
    "\n",
    "from scipy import optimize\n",
    "from scipy.stats import poisson\n",
    "\n",
    "import jax\n",
    "import jax.numpy as jnp\n",
    "\n",
    "%matplotlib inline\n",
    "import matplotlib as mpl\n",
    "import matplotlib.pyplot as plt\n",
    "mpl.rc_file('../utils/matplotlibrc')\n",
    "\n",
    "from utils import ed_fcts_amarel as ef\n",
    "from utils import create_mask as cm\n",
    "from utils import ed_plotting as eplt\n",
    "\n",
    "from numpyro.infer.initialization import init_to_sample #new"
   ]
  },
  {
   "cell_type": "code",
   "execution_count": 15,
   "metadata": {},
   "outputs": [],
   "source": [
    "# load GPU\n",
    "gpu_id = '3'\n",
    "os.environ['XLA_PYTHON_CLIENT_PREALLOCATE'] = 'false'\n",
    "os.environ['CUDA_VISIBLE_DEVICES'] = gpu_id"
   ]
  },
  {
   "cell_type": "code",
   "execution_count": 16,
   "metadata": {},
   "outputs": [
    {
     "data": {
      "text/plain": [
       "0"
      ]
     },
     "execution_count": 16,
     "metadata": {},
     "output_type": "execute_result"
    }
   ],
   "source": [
    "# name of the synthetic directory\n",
    "sim_name = 'canon_g1p2_ola_v2'\n",
    "\n",
    "# load SVI fit results (these should be the only parameters that you are loading)\n",
    "sim_id = 7.1234567\n",
    "temp_id = 5.23457\n",
    "gp_id = 1.16\n",
    "blg_id = -1\n",
    "mod_id = 11\n",
    "svi_id_1 = 671 # (671,672) =  (Fit 1, Fit 2)\n",
    "sim_seed = 1000\n",
    "svi_seed = 0\n",
    "\n",
    "# load data directory\n",
    "data_dir = ef.load_data_dir(sim_name)\n",
    "os.system(\"mkdir -p \"+data_dir)"
   ]
  },
  {
   "cell_type": "code",
   "execution_count": 17,
   "metadata": {},
   "outputs": [],
   "source": [
    "# import all saved model parameters from python file\n",
    "fit_filename, module_name = ef.generate_fit_filename_from_ids(sim_id, temp_id, gp_id, blg_id, mod_id, svi_id_1, sim_seed, svi_seed)\n",
    "fit_dir = data_dir + 'fits/' + fit_filename + '/'\n",
    "\n",
    "sys.path.append(fit_dir)\n",
    "import importlib \n",
    "module = importlib.import_module(module_name)\n",
    "\n",
    "# Load all the variables from the module\n",
    "globals().update(vars(module))\n",
    "\n",
    "# load saved data from GP -> Data fit\n",
    "fit_file_name = ('ebin' + str_ebin + '_smp_svi_' + \n",
    "            str_lr + '_' + str_n_steps + '_' + \n",
    "                str_guide + '_' + str_num_particles + '_' + \n",
    "                str_sim_seed + '_' + str_svi_seed + '.p')\n",
    "\n",
    "samples_dict_1, svi_results_1 = pickle.load(open(fit_dir + fit_file_name, 'rb'))\n",
    "\n",
    "# generate temp_sample_dict\n",
    "all_temp_names = ['iso', 'psc', 'bub', 'pib', 'ics', 'blg', 'nfw', 'dsk', 'gp']\n",
    "names = list(samples_dict_1.keys())\n",
    "temp_sample_dict_1 = {k: samples_dict_1[k] for k in all_temp_names if k in names}"
   ]
  },
  {
   "cell_type": "code",
   "execution_count": 18,
   "metadata": {},
   "outputs": [
    {
     "data": {
      "text/plain": [
       "0"
      ]
     },
     "execution_count": 18,
     "metadata": {},
     "output_type": "execute_result"
    }
   ],
   "source": [
    "# name of the synthetic directory\n",
    "sim_name = 'canon_g1p2_ola_v2'\n",
    "\n",
    "# load SVI fit results (these should be the only parameters that you are loading)\n",
    "sim_id = 7.1234567\n",
    "temp_id = 5.23457\n",
    "gp_id = 1.16\n",
    "blg_id = -1\n",
    "mod_id = 11\n",
    "svi_id_2 = 672 # (671,672) =  (Fit 1, Fit 2)\n",
    "sim_seed = 1000\n",
    "svi_seed = 0\n",
    "\n",
    "# load data directory\n",
    "data_dir = ef.load_data_dir(sim_name)\n",
    "os.system(\"mkdir -p \"+data_dir)"
   ]
  },
  {
   "cell_type": "code",
   "execution_count": 20,
   "metadata": {},
   "outputs": [
    {
     "name": "stderr",
     "output_type": "stream",
     "text": [
      "[autoreload of __main__ failed: Traceback (most recent call last):\n",
      "  File \"/home/edr76/.conda/envs/jax/lib/python3.11/site-packages/IPython/extensions/autoreload.py\", line 273, in check\n",
      "    superreload(m, reload, self.old_objects)\n",
      "  File \"/home/edr76/.conda/envs/jax/lib/python3.11/site-packages/IPython/extensions/autoreload.py\", line 471, in superreload\n",
      "    module = reload(module)\n",
      "             ^^^^^^^^^^^^^^\n",
      "  File \"/home/edr76/.conda/envs/jax/lib/python3.11/importlib/__init__.py\", line 148, in reload\n",
      "    raise ImportError(msg.format(name), name=name)\n",
      "ImportError: module settings_7p1234567_5p23457_1p16_-1_11_672_1000_0 not in sys.modules\n",
      "]\n",
      "[autoreload of __main__ failed: Traceback (most recent call last):\n",
      "  File \"/home/edr76/.conda/envs/jax/lib/python3.11/site-packages/IPython/extensions/autoreload.py\", line 273, in check\n",
      "    superreload(m, reload, self.old_objects)\n",
      "  File \"/home/edr76/.conda/envs/jax/lib/python3.11/site-packages/IPython/extensions/autoreload.py\", line 471, in superreload\n",
      "    module = reload(module)\n",
      "             ^^^^^^^^^^^^^^\n",
      "  File \"/home/edr76/.conda/envs/jax/lib/python3.11/importlib/__init__.py\", line 148, in reload\n",
      "    raise ImportError(msg.format(name), name=name)\n",
      "ImportError: module settings_7p1234567_5p23457_1p16_-1_11_672_1000_0 not in sys.modules\n",
      "]\n",
      "[autoreload of __main__ failed: Traceback (most recent call last):\n",
      "  File \"/home/edr76/.conda/envs/jax/lib/python3.11/site-packages/IPython/extensions/autoreload.py\", line 273, in check\n",
      "    superreload(m, reload, self.old_objects)\n",
      "  File \"/home/edr76/.conda/envs/jax/lib/python3.11/site-packages/IPython/extensions/autoreload.py\", line 471, in superreload\n",
      "    module = reload(module)\n",
      "             ^^^^^^^^^^^^^^\n",
      "  File \"/home/edr76/.conda/envs/jax/lib/python3.11/importlib/__init__.py\", line 148, in reload\n",
      "    raise ImportError(msg.format(name), name=name)\n",
      "ImportError: module settings_7p1234567_5p23457_1p16_-1_11_672_1000_0 not in sys.modules\n",
      "]\n",
      "[autoreload of __main__ failed: Traceback (most recent call last):\n",
      "  File \"/home/edr76/.conda/envs/jax/lib/python3.11/site-packages/IPython/extensions/autoreload.py\", line 273, in check\n",
      "    superreload(m, reload, self.old_objects)\n",
      "  File \"/home/edr76/.conda/envs/jax/lib/python3.11/site-packages/IPython/extensions/autoreload.py\", line 471, in superreload\n",
      "    module = reload(module)\n",
      "             ^^^^^^^^^^^^^^\n",
      "  File \"/home/edr76/.conda/envs/jax/lib/python3.11/importlib/__init__.py\", line 148, in reload\n",
      "    raise ImportError(msg.format(name), name=name)\n",
      "ImportError: module settings_7p1234567_5p23457_1p16_-1_11_672_1000_0 not in sys.modules\n",
      "]\n"
     ]
    }
   ],
   "source": [
    "svi_id_2 = 672 # (671,672) =  (Fit 1, Fit 2)\n",
    "fit_filename, module_name = ef.generate_fit_filename_from_ids(sim_id, temp_id, gp_id, blg_id, mod_id, svi_id_2, sim_seed, svi_seed)\n",
    "fit_dir = data_dir + 'fits/' + fit_filename + '/'\n",
    "\n",
    "sys.path.append(fit_dir)\n",
    "import importlib \n",
    "module = importlib.import_module(module_name)\n",
    "\n",
    "# Load all the variables from the module\n",
    "globals().update(vars(module))\n",
    "\n",
    "# load saved data from GP -> Data fit\n",
    "fit_file_name = ('ebin' + str_ebin + '_smp_svi_' + \n",
    "            str_lr + '_' + str_n_steps + '_' + \n",
    "                str_guide + '_' + str_num_particles + '_' + \n",
    "                str_sim_seed + '_' + str_svi_seed + '.p')\n",
    "\n",
    "samples_dict_2, svi_results_2 = pickle.load(open(fit_dir + fit_file_name, 'rb'))\n",
    "temp_sample_dict_2 = {k: samples_dict_2[k] for k in all_temp_names if k in names}\n",
    "\n",
    "# load loss data\n",
    "loss_file_name = ('ebin' + str_ebin + '_loss_data_' + \n",
    "            str_lr + '_' + str_n_steps + '_' + \n",
    "                str_guide + '_' + str_num_particles + '_' + \n",
    "                str_sim_seed + '_' + str_svi_seed + '.p')\n",
    "losses_1, ll_list_1, losses_2, ll_list_2 = pickle.load(open(fit_dir + loss_file_name, 'rb'))"
   ]
  },
  {
   "cell_type": "code",
   "execution_count": 21,
   "metadata": {},
   "outputs": [],
   "source": [
    "# additional loss information for plotting\n",
    "Nstep1 = len(losses_1)\n",
    "Nstep2 = len(losses_2)\n",
    "\n",
    "rx1 = ( np.array(svi_results_1.recorded_steps)  ) / Nstep1\n",
    "rx2 = ( np.array(svi_results_2.recorded_steps) ) / Nstep2"
   ]
  },
  {
   "cell_type": "code",
   "execution_count": 22,
   "metadata": {},
   "outputs": [],
   "source": [
    "# load true data if exits\n",
    "if data_file != 'fermi_data_sum':\n",
    "    temp_dict = np.load(data_dir + 'all_templates_ebin' + str(ebin)  + '.npy', allow_pickle=True).item()\n",
    "else:\n",
    "    pass"
   ]
  },
  {
   "cell_type": "code",
   "execution_count": 23,
   "metadata": {},
   "outputs": [
    {
     "ename": "",
     "evalue": "",
     "output_type": "error",
     "traceback": [
      "\u001b[1;31mThe Kernel crashed while executing code in the current cell or a previous cell. \n",
      "\u001b[1;31mPlease review the code in the cell(s) to identify a possible cause of the failure. \n",
      "\u001b[1;31mClick <a href='https://aka.ms/vscodeJupyterKernelCrash'>here</a> for more info. \n",
      "\u001b[1;31mView Jupyter <a href='command:jupyter.viewOutput'>log</a> for further details."
     ]
    }
   ],
   "source": [
    "pickle.dump(\n",
    "    (temp_dict, temp_sample_dict_1, temp_sample_dict_2, losses_1, ll_list_1, losses_2, ll_list_2, rx1, rx2),\n",
    "    open('../figures/data/appdata_degeneracy.p', 'wb')\n",
    ")"
   ]
  },
  {
   "cell_type": "code",
   "execution_count": null,
   "metadata": {},
   "outputs": [],
   "source": []
  }
 ],
 "metadata": {
  "kernelspec": {
   "display_name": "jax",
   "language": "python",
   "name": "python3"
  },
  "language_info": {
   "codemirror_mode": {
    "name": "ipython",
    "version": 3
   },
   "file_extension": ".py",
   "mimetype": "text/x-python",
   "name": "python",
   "nbconvert_exporter": "python",
   "pygments_lexer": "ipython3",
   "version": "3.11.4"
  }
 },
 "nbformat": 4,
 "nbformat_minor": 2
}
