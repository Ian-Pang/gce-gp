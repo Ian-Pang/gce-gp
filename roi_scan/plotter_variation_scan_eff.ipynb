{
 "cells": [
  {
   "cell_type": "code",
   "execution_count": 10,
   "metadata": {},
   "outputs": [
    {
     "name": "stderr",
     "output_type": "stream",
     "text": [
      "[autoreload of __main__ failed: Traceback (most recent call last):\n",
      "  File \"/home/edr76/.conda/envs/jax/lib/python3.11/site-packages/IPython/extensions/autoreload.py\", line 273, in check\n",
      "    superreload(m, reload, self.old_objects)\n",
      "  File \"/home/edr76/.conda/envs/jax/lib/python3.11/site-packages/IPython/extensions/autoreload.py\", line 471, in superreload\n",
      "    module = reload(module)\n",
      "             ^^^^^^^^^^^^^^\n",
      "  File \"/home/edr76/.conda/envs/jax/lib/python3.11/importlib/__init__.py\", line 148, in reload\n",
      "    raise ImportError(msg.format(name), name=name)\n",
      "ImportError: module settings_7p1234567_5p23457_1p16_-1_11_291_1001_0 not in sys.modules\n",
      "]\n"
     ]
    }
   ],
   "source": [
    "%reload_ext autoreload\n",
    "%autoreload 2\n",
    "\n",
    "import sys\n",
    "sys.path.append(\"..\")\n",
    "\n",
    "import numpy as np\n",
    "import healpy as hp\n",
    "from astropy.io import fits\n",
    "from pprint import pprint\n",
    "from tqdm import tqdm\n",
    "import pickle\n",
    "import corner\n",
    "import os\n",
    "\n",
    "from scipy import optimize\n",
    "from scipy.stats import poisson\n",
    "\n",
    "import jax\n",
    "import jax.numpy as jnp\n",
    "\n",
    "%matplotlib inline\n",
    "import matplotlib as mpl\n",
    "import matplotlib.pyplot as plt\n",
    "mpl.rc_file('../utils/matplotlibrc')\n",
    "\n",
    "from utils import ed_fcts_amarel as ef\n"
   ]
  },
  {
   "cell_type": "code",
   "execution_count": 11,
   "metadata": {},
   "outputs": [],
   "source": [
    "sim_seeds = np.arange(1000,1010)\n",
    "\n",
    "outer_radius_list = [30., 32.5, 35., 40., 45., 50., 60., 70.]\n",
    "svi_seeds = np.arange(len(outer_radius_list))"
   ]
  },
  {
   "cell_type": "code",
   "execution_count": 12,
   "metadata": {},
   "outputs": [],
   "source": [
    "# load SVI fit results (these should be the only parameters that you are loading)\n",
    "gpu_id = '1'\n",
    "\n",
    "# name of the synthetic directory\n",
    "sim_name = 'canon_g1p2_ola_v2'\n",
    "\n",
    "# load SVI fit results (these should be the only parameters that you are loading)\n",
    "sim_id = 7.1234567\n",
    "temp_id = 5.23457\n",
    "gp_id = 1.16\n",
    "blg_id = -1\n",
    "mod_id = 11\n",
    "svi_id = 291\n",
    "sim_seed = 1000\n",
    "svi_seed = 0"
   ]
  },
  {
   "cell_type": "code",
   "execution_count": 13,
   "metadata": {},
   "outputs": [],
   "source": [
    "# load GPU\n",
    "os.environ['XLA_PYTHON_CLIENT_PREALLOCATE'] = 'false'\n",
    "os.environ['CUDA_VISIBLE_DEVICES'] = gpu_id\n",
    "\n",
    "data_dir = ef.load_data_dir(sim_name)\n",
    "os.system(\"mkdir -p \"+data_dir)\n",
    "\n",
    "# Load the simulated templates\n",
    "ebin = 10\n",
    "temp_dict = np.load(data_dir + 'all_templates_ebin' + str(ebin)  + '.npy', allow_pickle=True).item()"
   ]
  },
  {
   "cell_type": "code",
   "execution_count": 14,
   "metadata": {},
   "outputs": [
    {
     "name": "stdout",
     "output_type": "stream",
     "text": [
      "/\n",
      "    ebin_old_10_smp_svi_0.1_20000_mvn_8_1000_3.p\n",
      "    ebin10_smp_svi_0.1_20000_mvn_8_1000_2.p\n",
      "    ebin10_smp_svi_0.1_20000_mvn_8_1000_3.p\n",
      "    ebin_old_10_smp_svi_0.1_20000_mvn_8_1000_2.p\n",
      "    settings_7p1234567_5p23457_1p16_-1_11_291_1000_0.py\n",
      "    ebin_old_10_smp_svi_0.1_20000_mvn_8_1000_0.p\n",
      "    summary.txt\n",
      "    ebin10_smp_svi_0.1_20000_mvn_8_1000_1.p\n",
      "    ebin10_smp_svi_0.1_20000_mvn_8_1000_0.p\n",
      "    ebin_old_10_smp_svi_0.1_20000_mvn_8_1000_1.p\n",
      "    __init__.py\n",
      "    ebin_old_10_smp_svi_0.1_20000_mvn_8_1000_5.p\n",
      "    ebin10_smp_svi_0.1_20000_mvn_8_1000_4.p\n",
      "    ebin10_smp_svi_0.1_20000_mvn_8_1000_5.p\n",
      "    ebin_old_10_smp_svi_0.1_20000_mvn_8_1000_4.p\n",
      "    ebin_old_10_smp_svi_0.1_20000_mvn_8_1000_6.p\n",
      "    ebin10_smp_svi_0.1_20000_mvn_8_1000_7.p\n",
      "    ebin10_smp_svi_0.1_20000_mvn_8_1000_6.p\n",
      "    ebin_old_10_smp_svi_0.1_20000_mvn_8_1000_7.p\n",
      "__pycache__/\n",
      "    settings_7p1234567_5p23457_1p16_-1_11_291_1000_0.cpython-311.pyc\n"
     ]
    }
   ],
   "source": [
    "fit_filename, module_name = ef.generate_fit_filename_from_ids(sim_id, temp_id, gp_id, blg_id, mod_id, svi_id, sim_seed, svi_seed)\n",
    "fit_dir = data_dir + 'fits/' + fit_filename + '/'\n",
    "ef.list_files(fit_dir)\n",
    "\n",
    "sys.path.append(fit_dir)\n",
    "import importlib \n",
    "module = importlib.import_module(module_name)\n",
    "\n",
    "# Load all the variables from the module\n",
    "globals().update(vars(module))"
   ]
  },
  {
   "cell_type": "code",
   "execution_count": 15,
   "metadata": {},
   "outputs": [
    {
     "name": "stderr",
     "output_type": "stream",
     "text": [
      "[autoreload of __mp_main__ failed: Traceback (most recent call last):\n",
      "  File \"/home/edr76/.conda/envs/jax/lib/python3.11/site-packages/IPython/extensions/autoreload.py\", line 273, in check\n",
      "    superreload(m, reload, self.old_objects)\n",
      "  File \"/home/edr76/.conda/envs/jax/lib/python3.11/site-packages/IPython/extensions/autoreload.py\", line 471, in superreload\n",
      "    module = reload(module)\n",
      "             ^^^^^^^^^^^^^^\n",
      "  File \"/home/edr76/.conda/envs/jax/lib/python3.11/importlib/__init__.py\", line 148, in reload\n",
      "    raise ImportError(msg.format(name), name=name)\n",
      "ImportError: module settings_7p1234567_5p23457_1p16_-1_11_291_1000_0 not in sys.modules\n",
      "]\n"
     ]
    }
   ],
   "source": [
    "from models.poissonian_gp_roiscan import EbinPoissonModel\n",
    "\n",
    "ebinmodel = EbinPoissonModel(\n",
    "        # important parameters\n",
    "        rig_temp_list = rig_temp_list,\n",
    "        hyb_temp_list = hyb_temp_list,\n",
    "        var_temp_list = var_temp_list,\n",
    "        is_gp = is_gp,\n",
    "        gp_deriv = gp_deriv,\n",
    "        data_file = data_file,\n",
    "        rig_temp_sim = rig_temp_sim,\n",
    "        hyb_temp_sim = hyb_temp_sim,\n",
    "        var_temp_sim = var_temp_sim,\n",
    "        is_custom_blg = is_custom_blg,\n",
    "        custom_blg_id = custom_blg_id,\n",
    "        sim_seed = sim_seed,\n",
    "        Nu = Nu,\n",
    "        u_option = u_option,\n",
    "        u_grid_type = u_grid_type,\n",
    "        u_weights = u_weights,\n",
    "        Np = Np,\n",
    "        p_option = p_option,\n",
    "        Nsub = Nsub,\n",
    "\n",
    "        # default parameters\n",
    "        ebin = ebin,\n",
    "        is_float64 = is_float64,\n",
    "        debug_nans = debug_nans,\n",
    "        no_ps_mask = no_ps_mask,\n",
    "        p_grid_type = p_grid_type,\n",
    "        p_weights = p_weights,\n",
    "        gp_kernel = gp_kernel,\n",
    "        gp_params = gp_params,\n",
    "        gp_scale_option = gp_scale_option,\n",
    "        monotonicity_hyperparameter = monotonicity_hyperparameter,\n",
    "        nfw_gamma = nfw_gamma,\n",
    "        blg_names = blg_names,\n",
    "        dif_names = dif_names,\n",
    "        )\n",
    "ebinmodel.config_model(ebin=ebin)\n",
    "mask_p = ebinmodel.mask_roi_arr[ebin]"
   ]
  },
  {
   "cell_type": "code",
   "execution_count": 16,
   "metadata": {},
   "outputs": [],
   "source": [
    "str_svi_seed = str(3)\n",
    "\n",
    "# load saved data from GP -> Data fit\n",
    "gp_file_name = ('ebin_old_' + str_ebin + '_smp_svi_' + \n",
    "             str_lr + '_' + str_n_steps + '_' + \n",
    "                str_guide + '_' + str_num_particles + '_' + \n",
    "                str_sim_seed + '_' + str_svi_seed + '.p')\n",
    "\n",
    "if is_gp:\n",
    "   samples, svi_results, gp_samples = pickle.load(open(fit_dir + gp_file_name, 'rb'))\n",
    "else:\n",
    "   samples, svi_results = pickle.load(open(fit_dir + gp_file_name, 'rb'))"
   ]
  },
  {
   "cell_type": "code",
   "execution_count": 17,
   "metadata": {},
   "outputs": [],
   "source": [
    "def truncate_samples(samples, n_samples):\n",
    "    for key in samples.keys():\n",
    "        samples[key] = samples[key][:n_samples]\n",
    "    return samples"
   ]
  },
  {
   "cell_type": "code",
   "execution_count": 18,
   "metadata": {},
   "outputs": [
    {
     "name": "stderr",
     "output_type": "stream",
     "text": [
      "mod_ids: 100%|██████████| 10/10 [00:02<00:00,  3.47it/s]\n"
     ]
    },
    {
     "name": "stdout",
     "output_type": "stream",
     "text": [
      "iso\n",
      "psc\n",
      "bub\n",
      "pib\n"
     ]
    },
    {
     "name": "stderr",
     "output_type": "stream",
     "text": [
      "100%|██████████| 1000/1000 [00:01<00:00, 559.81it/s]\n"
     ]
    },
    {
     "name": "stdout",
     "output_type": "stream",
     "text": [
      "ics\n"
     ]
    },
    {
     "name": "stderr",
     "output_type": "stream",
     "text": [
      "100%|██████████| 1000/1000 [00:01<00:00, 563.89it/s]\n",
      "mod_ids: 100%|██████████| 10/10 [00:02<00:00,  4.21it/s]\n"
     ]
    },
    {
     "name": "stdout",
     "output_type": "stream",
     "text": [
      "iso\n",
      "psc\n",
      "bub\n",
      "pib\n"
     ]
    },
    {
     "name": "stderr",
     "output_type": "stream",
     "text": [
      "100%|██████████| 1000/1000 [00:01<00:00, 580.96it/s]\n"
     ]
    },
    {
     "name": "stdout",
     "output_type": "stream",
     "text": [
      "ics\n"
     ]
    },
    {
     "name": "stderr",
     "output_type": "stream",
     "text": [
      "100%|██████████| 1000/1000 [00:01<00:00, 585.36it/s]\n",
      "mod_ids: 100%|██████████| 10/10 [00:02<00:00,  4.60it/s]\n"
     ]
    },
    {
     "name": "stdout",
     "output_type": "stream",
     "text": [
      "iso\n",
      "psc\n",
      "bub\n",
      "pib\n"
     ]
    },
    {
     "name": "stderr",
     "output_type": "stream",
     "text": [
      "100%|██████████| 1000/1000 [00:01<00:00, 604.68it/s]\n"
     ]
    },
    {
     "name": "stdout",
     "output_type": "stream",
     "text": [
      "ics\n"
     ]
    },
    {
     "name": "stderr",
     "output_type": "stream",
     "text": [
      "100%|██████████| 1000/1000 [00:01<00:00, 610.47it/s]\n",
      "mod_ids: 100%|██████████| 10/10 [00:01<00:00,  5.11it/s]\n"
     ]
    },
    {
     "name": "stdout",
     "output_type": "stream",
     "text": [
      "iso\n",
      "psc\n",
      "bub\n",
      "pib\n"
     ]
    },
    {
     "name": "stderr",
     "output_type": "stream",
     "text": [
      "100%|██████████| 1000/1000 [00:01<00:00, 595.18it/s]\n"
     ]
    },
    {
     "name": "stdout",
     "output_type": "stream",
     "text": [
      "ics\n"
     ]
    },
    {
     "name": "stderr",
     "output_type": "stream",
     "text": [
      "100%|██████████| 1000/1000 [00:01<00:00, 590.31it/s]\n",
      "mod_ids: 100%|██████████| 10/10 [00:02<00:00,  4.09it/s]\n"
     ]
    },
    {
     "name": "stdout",
     "output_type": "stream",
     "text": [
      "iso\n",
      "psc\n",
      "bub\n",
      "pib\n"
     ]
    },
    {
     "name": "stderr",
     "output_type": "stream",
     "text": [
      "100%|██████████| 1000/1000 [00:01<00:00, 622.29it/s]\n"
     ]
    },
    {
     "name": "stdout",
     "output_type": "stream",
     "text": [
      "ics\n"
     ]
    },
    {
     "name": "stderr",
     "output_type": "stream",
     "text": [
      "100%|██████████| 1000/1000 [00:01<00:00, 602.92it/s]\n",
      "mod_ids: 100%|██████████| 10/10 [00:02<00:00,  3.93it/s]\n"
     ]
    },
    {
     "name": "stdout",
     "output_type": "stream",
     "text": [
      "iso\n",
      "psc\n",
      "bub\n",
      "pib\n"
     ]
    },
    {
     "name": "stderr",
     "output_type": "stream",
     "text": [
      "100%|██████████| 1000/1000 [00:01<00:00, 574.36it/s]\n"
     ]
    },
    {
     "name": "stdout",
     "output_type": "stream",
     "text": [
      "ics\n"
     ]
    },
    {
     "name": "stderr",
     "output_type": "stream",
     "text": [
      "100%|██████████| 1000/1000 [00:01<00:00, 571.54it/s]\n",
      "mod_ids: 100%|██████████| 10/10 [00:02<00:00,  3.97it/s]\n"
     ]
    },
    {
     "name": "stdout",
     "output_type": "stream",
     "text": [
      "iso\n",
      "psc\n",
      "bub\n",
      "pib\n"
     ]
    },
    {
     "name": "stderr",
     "output_type": "stream",
     "text": [
      "100%|██████████| 1000/1000 [00:01<00:00, 576.32it/s]\n"
     ]
    },
    {
     "name": "stdout",
     "output_type": "stream",
     "text": [
      "ics\n"
     ]
    },
    {
     "name": "stderr",
     "output_type": "stream",
     "text": [
      "100%|██████████| 1000/1000 [00:01<00:00, 614.15it/s]\n",
      "mod_ids: 100%|██████████| 10/10 [00:02<00:00,  3.89it/s]\n"
     ]
    },
    {
     "name": "stdout",
     "output_type": "stream",
     "text": [
      "iso\n",
      "psc\n",
      "bub\n",
      "pib\n"
     ]
    },
    {
     "name": "stderr",
     "output_type": "stream",
     "text": [
      "100%|██████████| 1000/1000 [00:01<00:00, 587.27it/s]\n"
     ]
    },
    {
     "name": "stdout",
     "output_type": "stream",
     "text": [
      "ics\n"
     ]
    },
    {
     "name": "stderr",
     "output_type": "stream",
     "text": [
      "100%|██████████| 1000/1000 [00:01<00:00, 595.62it/s]\n",
      "svi_seeds: 100%|██████████| 8/8 [00:48<00:00,  6.07s/it]"
     ]
    },
    {
     "name": "stdout",
     "output_type": "stream",
     "text": [
      "DONE\n"
     ]
    },
    {
     "name": "stderr",
     "output_type": "stream",
     "text": [
      "\n"
     ]
    }
   ],
   "source": [
    "# TODO: Probably a better way to collect this data; \n",
    "# for example, make a dictionary whose inputs are ordered pairs of the variable inputs\n",
    "\n",
    "svi_results_list = []\n",
    "samples_list = []\n",
    "gp_samples_list = []\n",
    "temp_sample_dict_list = []\n",
    "\n",
    "q_list = []\n",
    "\n",
    "temp_names_sim = rig_temp_sim + hyb_temp_sim + var_temp_sim # imported from settings file\n",
    "\n",
    "for _svi_seed in tqdm(svi_seeds, desc = 'svi_seeds'):\n",
    "   aug_samples = []\n",
    "   aug_gp_samples = []\n",
    "\n",
    "   for sim_seed in tqdm(sim_seeds, desc = 'mod_ids'):\n",
    "      # if fit_dir in sys.path:\n",
    "      #     sys.path.pop(-1)\n",
    "      svi_seed_load = 0\n",
    "      fit_filename, module_name = ef.generate_fit_filename_from_ids(sim_id, temp_id, gp_id, blg_id, mod_id, svi_id, sim_seed, svi_seed_load)\n",
    "      fit_dir = data_dir + 'fits/' + fit_filename + '/'\n",
    "\n",
    "      sys.path.append(fit_dir)\n",
    "      import importlib \n",
    "      module = importlib.import_module(module_name)\n",
    "\n",
    "      # Load all the variables from the module\n",
    "      globals().update(vars(module))\n",
    "\n",
    "      svi_seed = _svi_seed\n",
    "      str_svi_seed = str(_svi_seed)\n",
    "      file_name = ('ebin_old_' + str_ebin + '_smp_svi_' + \n",
    "                  str_lr + '_' + str_n_steps + '_' + \n",
    "                     str_guide + '_' + str_num_particles + '_' + \n",
    "                     str_sim_seed + '_' + str_svi_seed + '.p')\n",
    "\n",
    "      if is_gp:\n",
    "         samples, svi_results, gp_samples = pickle.load(open(fit_dir + file_name, 'rb'))\n",
    "      else:\n",
    "         samples, svi_results = pickle.load(open(fit_dir + file_name, 'rb'))\n",
    "      \n",
    "      samples = truncate_samples(samples,1000)\n",
    "      gp_samples = gp_samples\n",
    "\n",
    "      if len(aug_samples) == 0:\n",
    "         aug_samples = samples\n",
    "      else:\n",
    "         for key in samples.keys():\n",
    "            aug_samples[key] = np.concatenate((aug_samples[key], samples[key]))\n",
    "\n",
    "      if len(aug_gp_samples) == 0:\n",
    "         aug_gp_samples = gp_samples\n",
    "      else:\n",
    "         aug_gp_samples = np.concatenate((aug_gp_samples, gp_samples), axis = 0)\n",
    "      \n",
    "   samples = aug_samples\n",
    "   gp_samples = aug_gp_samples\n",
    "   temp_sample_dict = ef.generate_temp_sample_maps(samples, ebinmodel, gp_samples = gp_samples, custom_mask = mask_p, custom_num=1000, nfw_gamma=nfw_gamma)\n",
    "\n",
    "   norm_sum = {}\n",
    "   for name in list(temp_sample_dict.keys()):\n",
    "      if name == 'gp':\n",
    "            true_sum = temp_dict['nfw'][~mask_p].sum() + temp_dict['blg'][~mask_p].sum()\n",
    "            norm_sum[name] = (temp_sample_dict[name].sum(axis=1) - true_sum) / true_sum\n",
    "      else:\n",
    "            true_sum = temp_dict[name][~mask_p].sum()\n",
    "            norm_sum[name] = (temp_sample_dict[name].sum(axis=1) - true_sum) / true_sum\n",
    "\n",
    "   q_dict = {}\n",
    "   for name in list(norm_sum.keys()):\n",
    "      q_dict[name] = np.quantile(norm_sum[name], [0.16, 0.5, 0.84], axis=0)\n",
    "\n",
    "   q_list.append(q_dict)\n",
    "\n",
    "print('DONE')"
   ]
  },
  {
   "cell_type": "code",
   "execution_count": 19,
   "metadata": {},
   "outputs": [
    {
     "name": "stderr",
     "output_type": "stream",
     "text": [
      "[autoreload of __main__ failed: Traceback (most recent call last):\n",
      "  File \"/home/edr76/.conda/envs/jax/lib/python3.11/site-packages/IPython/extensions/autoreload.py\", line 273, in check\n",
      "    superreload(m, reload, self.old_objects)\n",
      "  File \"/home/edr76/.conda/envs/jax/lib/python3.11/site-packages/IPython/extensions/autoreload.py\", line 471, in superreload\n",
      "    module = reload(module)\n",
      "             ^^^^^^^^^^^^^^\n",
      "  File \"/home/edr76/.conda/envs/jax/lib/python3.11/importlib/__init__.py\", line 148, in reload\n",
      "    raise ImportError(msg.format(name), name=name)\n",
      "ImportError: module settings_7p1234567_5p23457_1p16_-1_11_291_1009_0 not in sys.modules\n",
      "]\n",
      "[autoreload of __main__ failed: Traceback (most recent call last):\n",
      "  File \"/home/edr76/.conda/envs/jax/lib/python3.11/site-packages/IPython/extensions/autoreload.py\", line 273, in check\n",
      "    superreload(m, reload, self.old_objects)\n",
      "  File \"/home/edr76/.conda/envs/jax/lib/python3.11/site-packages/IPython/extensions/autoreload.py\", line 471, in superreload\n",
      "    module = reload(module)\n",
      "             ^^^^^^^^^^^^^^\n",
      "  File \"/home/edr76/.conda/envs/jax/lib/python3.11/importlib/__init__.py\", line 148, in reload\n",
      "    raise ImportError(msg.format(name), name=name)\n",
      "ImportError: module settings_7p1234567_5p23457_1p16_-1_11_291_1009_0 not in sys.modules\n",
      "]\n"
     ]
    }
   ],
   "source": [
    "q_dict = {}\n",
    "for name in norm_sum.keys():\n",
    "    q_dict[name] = np.array([q_list[i][name] for i in range(len(q_list))]).T"
   ]
  },
  {
   "cell_type": "code",
   "execution_count": 20,
   "metadata": {},
   "outputs": [
    {
     "data": {
      "text/plain": [
       "(3, 8)"
      ]
     },
     "execution_count": 20,
     "metadata": {},
     "output_type": "execute_result"
    }
   ],
   "source": [
    "q_dict['gp'].shape"
   ]
  },
  {
   "cell_type": "code",
   "execution_count": 21,
   "metadata": {},
   "outputs": [
    {
     "data": {
      "text/plain": [
       "<matplotlib.lines.Line2D at 0x7fdcd4773290>"
      ]
     },
     "execution_count": 21,
     "metadata": {},
     "output_type": "execute_result"
    },
    {
     "data": {
      "image/png": "[encoded data removed]",
      "text/plain": [
       "<Figure size 720x480 with 1 Axes>"
      ]
     },
     "metadata": {},
     "output_type": "display_data"
    }
   ],
   "source": [
    "for name in list(norm_sum.keys()):\n",
    "    plt.plot(outer_radius_list, q_dict[name][1], label=name)\n",
    "    plt.fill_between(outer_radius_list, q_dict[name][0], q_dict[name][2], alpha=0.3)\n",
    "plt.legend(fontsize = 10)\n",
    "plt.xlabel('Outer Radius Boundary from $30^{\\circ}$ (deg)')\n",
    "plt.ylabel('Relative Difference from True Value')\n",
    "plt.axvline(x = 40, color = 'black', linestyle = '--')\n",
    "plt.axhline(y = 0, color = 'black', linestyle = '--')"
   ]
  },
  {
   "cell_type": "code",
   "execution_count": 22,
   "metadata": {},
   "outputs": [],
   "source": [
    "pickle.dump(\n",
    "    (outer_radius_list, q_dict),\n",
    "    open('../figures/data/appdata_roi_outer_radius_scan.p', 'wb')\n",
    ")"
   ]
  },
  {
   "cell_type": "code",
   "execution_count": 23,
   "metadata": {},
   "outputs": [
    {
     "data": {
      "text/plain": [
       "<matplotlib.lines.Line2D at 0x7fdcd47b2e50>"
      ]
     },
     "execution_count": 23,
     "metadata": {},
     "output_type": "execute_result"
    },
    {
     "data": {
      "image/png": "[encoded data removed]",
      "text/plain": [
       "<Figure size 720x480 with 1 Axes>"
      ]
     },
     "metadata": {},
     "output_type": "display_data"
    }
   ],
   "source": [
    "for name in list(norm_sum.keys()):\n",
    "    plt.plot(outer_radius_list, q_dict[name][1], label=name)\n",
    "    plt.fill_between(outer_radius_list, q_dict[name][0], q_dict[name][2], alpha=0.3)\n",
    "plt.legend(fontsize = 10)\n",
    "plt.xlabel('Outer Radius Boundary from $30^{\\circ}$ (deg)')\n",
    "plt.ylabel('Relative Difference from True Value')\n",
    "plt.axvline(x = 40, color = 'black', linestyle = '--')\n",
    "plt.axhline(y = 0, color = 'black', linestyle = '--')"
   ]
  },
  {
   "cell_type": "code",
   "execution_count": null,
   "metadata": {},
   "outputs": [],
   "source": []
  },
  {
   "cell_type": "code",
   "execution_count": 24,
   "metadata": {},
   "outputs": [
    {
     "name": "stderr",
     "output_type": "stream",
     "text": [
      "sim_seeds:   0%|          | 0/10 [00:00<?, ?it/s]"
     ]
    },
    {
     "name": "stderr",
     "output_type": "stream",
     "text": [
      "\n"
     ]
    },
    {
     "ename": "NameError",
     "evalue": "name 'samples_sim' is not defined",
     "output_type": "error",
     "traceback": [
      "\u001b[0;31m---------------------------------------------------------------------------\u001b[0m",
      "\u001b[0;31mNameError\u001b[0m                                 Traceback (most recent call last)",
      "Cell \u001b[0;32mIn[24], line 3\u001b[0m\n\u001b[1;32m      1\u001b[0m Nr \u001b[38;5;241m=\u001b[39m \u001b[38;5;28mlen\u001b[39m(sim_seeds)\n\u001b[1;32m      2\u001b[0m \u001b[38;5;28;01mfor\u001b[39;00m nr \u001b[38;5;129;01min\u001b[39;00m tqdm(\u001b[38;5;28mrange\u001b[39m(Nr), desc \u001b[38;5;241m=\u001b[39m \u001b[38;5;124m'\u001b[39m\u001b[38;5;124msim_seeds\u001b[39m\u001b[38;5;124m'\u001b[39m):\n\u001b[0;32m----> 3\u001b[0m     samples \u001b[38;5;241m=\u001b[39m \u001b[43msamples_sim\u001b[49m[nr]\n\u001b[1;32m      4\u001b[0m     plt\u001b[38;5;241m.\u001b[39mhist(np\u001b[38;5;241m.\u001b[39mlog10(samples[\u001b[38;5;124m'\u001b[39m\u001b[38;5;124mS_ics\u001b[39m\u001b[38;5;124m'\u001b[39m]), color \u001b[38;5;241m=\u001b[39m \u001b[38;5;124m'\u001b[39m\u001b[38;5;124mk\u001b[39m\u001b[38;5;124m'\u001b[39m, alpha \u001b[38;5;241m=\u001b[39m \u001b[38;5;241m0.1\u001b[39m)\n\u001b[1;32m      5\u001b[0m     plt\u001b[38;5;241m.\u001b[39maxvline(np\u001b[38;5;241m.\u001b[39mlog10(temp_dict[\u001b[38;5;124m'\u001b[39m\u001b[38;5;124mS_ics\u001b[39m\u001b[38;5;124m'\u001b[39m]), color \u001b[38;5;241m=\u001b[39m \u001b[38;5;124m'\u001b[39m\u001b[38;5;124mk\u001b[39m\u001b[38;5;124m'\u001b[39m)\n",
      "\u001b[0;31mNameError\u001b[0m: name 'samples_sim' is not defined"
     ]
    }
   ],
   "source": [
    "Nr = len(sim_seeds)\n",
    "for nr in tqdm(range(Nr), desc = 'sim_seeds'):\n",
    "    samples = samples_sim[nr]\n",
    "    plt.hist(np.log10(samples['S_ics']), color = 'k', alpha = 0.1)\n",
    "    plt.axvline(np.log10(temp_dict['S_ics']), color = 'k')"
   ]
  },
  {
   "cell_type": "code",
   "execution_count": null,
   "metadata": {},
   "outputs": [
    {
     "name": "stderr",
     "output_type": "stream",
     "text": [
      "sim_seeds:   0%|          | 0/7 [00:00<?, ?it/s]"
     ]
    },
    {
     "name": "stdout",
     "output_type": "stream",
     "text": [
      "iso\n",
      "psc\n",
      "bub\n",
      "pib\n"
     ]
    },
    {
     "name": "stderr",
     "output_type": "stream",
     "text": [
      "100%|██████████| 1000/1000 [00:02<00:00, 340.38it/s]\n"
     ]
    },
    {
     "name": "stdout",
     "output_type": "stream",
     "text": [
      "ics\n"
     ]
    },
    {
     "name": "stderr",
     "output_type": "stream",
     "text": [
      "100%|██████████| 1000/1000 [00:02<00:00, 381.92it/s]\n",
      "sim_seeds:  14%|█▍        | 1/7 [00:06<00:37,  6.33s/it]"
     ]
    },
    {
     "name": "stdout",
     "output_type": "stream",
     "text": [
      "iso\n",
      "psc\n",
      "bub\n",
      "pib\n"
     ]
    },
    {
     "name": "stderr",
     "output_type": "stream",
     "text": [
      "100%|██████████| 1000/1000 [00:02<00:00, 366.34it/s]\n"
     ]
    },
    {
     "name": "stdout",
     "output_type": "stream",
     "text": [
      "ics\n"
     ]
    },
    {
     "name": "stderr",
     "output_type": "stream",
     "text": [
      "100%|██████████| 1000/1000 [00:02<00:00, 376.66it/s]\n",
      "sim_seeds:  29%|██▊       | 2/7 [00:11<00:29,  5.90s/it]"
     ]
    },
    {
     "name": "stdout",
     "output_type": "stream",
     "text": [
      "iso\n",
      "psc\n",
      "bub\n",
      "pib\n"
     ]
    },
    {
     "name": "stderr",
     "output_type": "stream",
     "text": [
      "100%|██████████| 1000/1000 [00:02<00:00, 356.01it/s]\n"
     ]
    },
    {
     "name": "stdout",
     "output_type": "stream",
     "text": [
      "ics\n"
     ]
    },
    {
     "name": "stderr",
     "output_type": "stream",
     "text": [
      "100%|██████████| 1000/1000 [00:02<00:00, 369.36it/s]\n",
      "sim_seeds:  43%|████▎     | 3/7 [00:17<00:23,  5.82s/it]"
     ]
    },
    {
     "name": "stdout",
     "output_type": "stream",
     "text": [
      "iso\n",
      "psc\n",
      "bub\n",
      "pib\n"
     ]
    },
    {
     "name": "stderr",
     "output_type": "stream",
     "text": [
      "100%|██████████| 1000/1000 [00:02<00:00, 339.48it/s]\n"
     ]
    },
    {
     "name": "stdout",
     "output_type": "stream",
     "text": [
      "ics\n"
     ]
    },
    {
     "name": "stderr",
     "output_type": "stream",
     "text": [
      "100%|██████████| 1000/1000 [00:02<00:00, 370.89it/s]\n",
      "sim_seeds:  57%|█████▋    | 4/7 [00:23<00:17,  5.95s/it]"
     ]
    },
    {
     "name": "stdout",
     "output_type": "stream",
     "text": [
      "iso\n",
      "psc\n",
      "bub\n",
      "pib\n"
     ]
    },
    {
     "name": "stderr",
     "output_type": "stream",
     "text": [
      "100%|██████████| 1000/1000 [00:02<00:00, 369.40it/s]\n"
     ]
    },
    {
     "name": "stdout",
     "output_type": "stream",
     "text": [
      "ics\n"
     ]
    },
    {
     "name": "stderr",
     "output_type": "stream",
     "text": [
      "100%|██████████| 1000/1000 [00:02<00:00, 373.36it/s]\n",
      "sim_seeds:  71%|███████▏  | 5/7 [00:29<00:11,  5.85s/it]"
     ]
    },
    {
     "name": "stdout",
     "output_type": "stream",
     "text": [
      "iso\n",
      "psc\n",
      "bub\n",
      "pib\n"
     ]
    },
    {
     "name": "stderr",
     "output_type": "stream",
     "text": [
      "100%|██████████| 1000/1000 [00:02<00:00, 374.50it/s]\n"
     ]
    },
    {
     "name": "stdout",
     "output_type": "stream",
     "text": [
      "ics\n"
     ]
    },
    {
     "name": "stderr",
     "output_type": "stream",
     "text": [
      "100%|██████████| 1000/1000 [00:02<00:00, 354.46it/s]\n",
      "sim_seeds:  86%|████████▌ | 6/7 [00:35<00:05,  5.89s/it]"
     ]
    },
    {
     "name": "stdout",
     "output_type": "stream",
     "text": [
      "iso\n",
      "psc\n",
      "bub\n",
      "pib\n"
     ]
    },
    {
     "name": "stderr",
     "output_type": "stream",
     "text": [
      "100%|██████████| 1000/1000 [00:02<00:00, 370.63it/s]\n"
     ]
    },
    {
     "name": "stdout",
     "output_type": "stream",
     "text": [
      "ics\n"
     ]
    },
    {
     "name": "stderr",
     "output_type": "stream",
     "text": [
      "100%|██████████| 1000/1000 [00:02<00:00, 357.15it/s]\n",
      "sim_seeds: 100%|██████████| 7/7 [00:41<00:00,  5.88s/it]\n"
     ]
    }
   ],
   "source": [
    "\n",
    "\n",
    "# NOTE: Indices now don't track the IDs. So, you need to keep track of the indices\n",
    "# Ns = len(svi_ids)\n",
    "# Nr = len(sim_seeds)\n",
    "for nr in tqdm(range(Nr), desc = 'sim_seeds'):\n",
    "    samples = samples_sim[nr]\n",
    "    gp_samples = gp_samples_sim[nr]\n",
    "    temp_sample_dict = ef.generate_temp_sample_maps(samples, ebinmodel, gp_samples = gp_samples, custom_num=None, nfw_gamma=nfw_gamma)\n",
    "    temp_sample_dict_sim.append(temp_sample_dict)"
   ]
  },
  {
   "cell_type": "code",
   "execution_count": null,
   "metadata": {},
   "outputs": [
    {
     "name": "stderr",
     "output_type": "stream",
     "text": [
      "sim_seeds:   0%|          | 0/7 [00:00<?, ?it/s]"
     ]
    },
    {
     "name": "stderr",
     "output_type": "stream",
     "text": [
      "sim_seeds: 100%|██████████| 7/7 [00:00<00:00,  8.08it/s]\n"
     ]
    },
    {
     "data": {
      "image/png": "[encoded data removed]",
      "text/plain": [
       "<Figure size 1440x720 with 1 Axes>"
      ]
     },
     "metadata": {},
     "output_type": "display_data"
    }
   ],
   "source": [
    "fig = plt.figure(figsize=(12, 6), dpi= 120)\n",
    "ax = fig.add_subplot(111)\n",
    "\n",
    "bins = np.linspace(1.4,5.,200)\n",
    "alpha = 0.2\n",
    "histtype = 'stepfilled'\n",
    "\n",
    "all_temp_names = ['iso', 'psc', 'bub', 'pib', 'ics', 'blg', 'gp', 'nfw', 'dsk']\n",
    "ccodes = ['C0', 'C1', 'C2', 'C3', 'C4', 'C5', 'C5', 'C6', 'C7']\n",
    "names = list(temp_sample_dict.keys())\n",
    "ordered_names = [name for name in all_temp_names if name in names]\n",
    "\n",
    "# Ns = len(svi_ids)\n",
    "# Nr = len(sim_seeds)\n",
    "c = 0\n",
    "for nr in tqdm(range(Nr), desc = 'sim_seeds'):\n",
    "    temp_sample_dict = temp_sample_dict_sim[nr]\n",
    "    for k in range(len(ordered_names)):\n",
    "        name = ordered_names[k]\n",
    "        idx = all_temp_names.index(name)\n",
    "        ccode = ccodes[idx]\n",
    "        # if name == 'gp':\n",
    "        #     temp_sum = jnp.exp(temp_sample_dict[name]).sum(axis = 1) # sum over spatial bins\n",
    "        #     ax.hist(np.log10(temp_sum), bins = bins, alpha = 0.75, label = name, density = True, histtype = 'step', color = ccode)\n",
    "        # else:\n",
    "        temp_sum = temp_sample_dict[name].sum(axis = 1) # sum over spatial bins\n",
    "        if c == 0:\n",
    "            ax.hist(np.log10(temp_sum), bins = bins, alpha = alpha, label = name, density = True, histtype = histtype, color = ccode)\n",
    "        else:\n",
    "            ax.hist(np.log10(temp_sum), bins = bins, alpha = alpha, density = True, histtype = histtype, color = ccode)\n",
    "\n",
    "    if temp_dict is not None:\n",
    "        names_sim = temp_names_sim # this piece is provided by the \"settings\" file since we only save a dictionary with all the fit parameters\n",
    "        ordered_names_sim = [name for name in all_temp_names if name in names_sim]\n",
    "        for k in range(len(ordered_names_sim)):\n",
    "            name = ordered_names_sim[k]\n",
    "            idx = all_temp_names.index(name)\n",
    "            ccode = ccodes[idx]\n",
    "            if ordered_names_sim[k] == 'nfw':\n",
    "                continue\n",
    "            elif ordered_names_sim[k] == 'blg':\n",
    "                temp_sum_sim = temp_dict['blg'].sum(axis = 0) + temp_dict['nfw'].sum(axis = 0) \n",
    "                ax.axvline(np.log10(temp_sum_sim), linestyle='--', c = ccode)\n",
    "            else:\n",
    "                temp_sum_sim = temp_dict[name].sum(axis = 0)\n",
    "                ax.axvline(np.log10(temp_sum_sim), linestyle='--', c = ccode)\n",
    "    c += 1\n",
    "    \n",
    "    ax.legend()\n",
    "    ax.set_xlabel(r'$\\log_{10}(\\mathrm{counts})$')\n",
    "    ax.set_ylabel(r'$\\mathrm{density}$')\n",
    "    ax.set_title(r'$\\mathrm{Counts\\ in\\ Unmasked\\ Region}$')"
   ]
  },
  {
   "cell_type": "code",
   "execution_count": null,
   "metadata": {},
   "outputs": [],
   "source": []
  }
 ],
 "metadata": {
  "kernelspec": {
   "display_name": "jax",
   "language": "python",
   "name": "python3"
  },
  "language_info": {
   "codemirror_mode": {
    "name": "ipython",
    "version": 3
   },
   "file_extension": ".py",
   "mimetype": "text/x-python",
   "name": "python",
   "nbconvert_exporter": "python",
   "pygments_lexer": "ipython3",
   "version": "3.11.4"
  }
 },
 "nbformat": 4,
 "nbformat_minor": 2
}
